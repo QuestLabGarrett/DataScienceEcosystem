{
 "cells": [
  {
   "cell_type": "markdown",
   "id": "b44e9fb7",
   "metadata": {},
   "source": [
    "# Data Science Tools and Ecosystem"
   ]
  },
  {
   "cell_type": "markdown",
   "id": "c26953ea",
   "metadata": {},
   "source": [
    "In this notebook, Data Science Tools and Ecosystem are summarized."
   ]
  },
  {
   "cell_type": "markdown",
   "id": "034ee59f",
   "metadata": {},
   "source": [
    "Some of the popular languages that Data Scientists use are:\n",
    "\n",
    "1. Python\n",
    "2. R\n",
    "3. SQL\n",
    "4. C++\n",
    "5. Java\n",
    "6. Matlab"
   ]
  },
  {
   "cell_type": "markdown",
   "id": "4d443b70",
   "metadata": {},
   "source": [
    "Some of the commonly used libraries used by Data Scientists include:\n",
    "\n",
    "1. Pandas\n",
    "2. Tenserflow\n",
    "3. MatplotLib\n",
    "4. Scikit-Learn\n",
    "5. Keras\n",
    "6. Numpy"
   ]
  },
  {
   "cell_type": "markdown",
   "id": "04f51401",
   "metadata": {},
   "source": [
    "|Data Science Tools|\n",
    "|:-----------------|\n",
    "|Jupyter Notebook|\n",
    "|JupyterLab|\n",
    "|Spyder|\n",
    "|VS studio + py extensions|\n",
    "|R Studio|"
   ]
  },
  {
   "cell_type": "markdown",
   "id": "88a705e0",
   "metadata": {},
   "source": [
    "### Below are a few examples of evaluating arithmetic expressions in Python"
   ]
  },
  {
   "cell_type": "code",
   "execution_count": 2,
   "id": "a2f554bb",
   "metadata": {},
   "outputs": [
    {
     "data": {
      "text/plain": [
       "17"
      ]
     },
     "execution_count": 2,
     "metadata": {},
     "output_type": "execute_result"
    }
   ],
   "source": [
    "#This is a simple arithmetic expression to multiply then add integers\n",
    "(3*4)+5"
   ]
  },
  {
   "cell_type": "code",
   "execution_count": 3,
   "id": "aa2555d6",
   "metadata": {},
   "outputs": [
    {
     "name": "stdout",
     "output_type": "stream",
     "text": [
      "3.3333333333333335\n"
     ]
    }
   ],
   "source": [
    "#this will convert 200 minutes into hours by dividing by 60\n",
    "minutes = 200\n",
    "hours = minutes / 60\n",
    "print(hours)"
   ]
  },
  {
   "cell_type": "markdown",
   "id": "4b57903a",
   "metadata": {},
   "source": [
    "**Objectives:**\n",
    "\n",
    "- List popular data science languages\n",
    "- List popular data science libraries\n",
    "- List popular data science IDEs\n",
    "- Practice basic arithmetic"
   ]
  },
  {
   "cell_type": "markdown",
   "id": "ac52483d",
   "metadata": {},
   "source": [
    "## Author\n",
    "Garrett Isaacs"
   ]
  },
  {
   "cell_type": "code",
   "execution_count": null,
   "id": "39c4bc7c",
   "metadata": {},
   "outputs": [],
   "source": []
  }
 ],
 "metadata": {
  "kernelspec": {
   "display_name": "Python 3 (ipykernel)",
   "language": "python",
   "name": "python3"
  },
  "language_info": {
   "codemirror_mode": {
    "name": "ipython",
    "version": 3
   },
   "file_extension": ".py",
   "mimetype": "text/x-python",
   "name": "python",
   "nbconvert_exporter": "python",
   "pygments_lexer": "ipython3",
   "version": "3.11.7"
  }
 },
 "nbformat": 4,
 "nbformat_minor": 5
}
